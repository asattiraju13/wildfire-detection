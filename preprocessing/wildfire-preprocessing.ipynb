{
 "cells": [
  {
   "cell_type": "code",
   "execution_count": 1,
   "metadata": {},
   "outputs": [
    {
     "data": {
      "text/html": [
       "<div>\n",
       "<style scoped>\n",
       "    .dataframe tbody tr th:only-of-type {\n",
       "        vertical-align: middle;\n",
       "    }\n",
       "\n",
       "    .dataframe tbody tr th {\n",
       "        vertical-align: top;\n",
       "    }\n",
       "\n",
       "    .dataframe thead th {\n",
       "        text-align: right;\n",
       "    }\n",
       "</style>\n",
       "<table border=\"1\" class=\"dataframe\">\n",
       "  <thead>\n",
       "    <tr style=\"text-align: right;\">\n",
       "      <th></th>\n",
       "      <th>FID</th>\n",
       "      <th>OBJECTID</th>\n",
       "      <th>MAP_METHOD</th>\n",
       "      <th>DATE_CUR</th>\n",
       "      <th>COMMENTS</th>\n",
       "      <th>GEO_ID</th>\n",
       "      <th>IRWINID</th>\n",
       "      <th>UNQE_FIRE_</th>\n",
       "      <th>FIRE_YEAR</th>\n",
       "      <th>LOCAL_NUM</th>\n",
       "      <th>...</th>\n",
       "      <th>POO_RESP_I</th>\n",
       "      <th>FEATURE_CA</th>\n",
       "      <th>GIS_ACRES</th>\n",
       "      <th>USER_NAME</th>\n",
       "      <th>SOURCE</th>\n",
       "      <th>AGENCY</th>\n",
       "      <th>FIRE_YEAR_</th>\n",
       "      <th>SHAPE_Leng</th>\n",
       "      <th>SHAPE_Area</th>\n",
       "      <th>geometry</th>\n",
       "    </tr>\n",
       "  </thead>\n",
       "  <tbody>\n",
       "    <tr>\n",
       "      <th>0</th>\n",
       "      <td>1</td>\n",
       "      <td>1</td>\n",
       "      <td>GPS Ground</td>\n",
       "      <td>20200623</td>\n",
       "      <td>None</td>\n",
       "      <td>1</td>\n",
       "      <td>None</td>\n",
       "      <td>None</td>\n",
       "      <td>2020</td>\n",
       "      <td>00013212</td>\n",
       "      <td>...</td>\n",
       "      <td>None</td>\n",
       "      <td>Wildfire</td>\n",
       "      <td>109.602501</td>\n",
       "      <td>None</td>\n",
       "      <td>CalFire FRAP</td>\n",
       "      <td>CDF</td>\n",
       "      <td>2020</td>\n",
       "      <td>0.035733</td>\n",
       "      <td>0.000046</td>\n",
       "      <td>POLYGON ((-121.34840 38.88999, -121.34835 38.8...</td>\n",
       "    </tr>\n",
       "    <tr>\n",
       "      <th>1</th>\n",
       "      <td>2</td>\n",
       "      <td>2</td>\n",
       "      <td>GPS Ground</td>\n",
       "      <td>20200604</td>\n",
       "      <td>None</td>\n",
       "      <td>2</td>\n",
       "      <td>None</td>\n",
       "      <td>None</td>\n",
       "      <td>2020</td>\n",
       "      <td>00011799</td>\n",
       "      <td>...</td>\n",
       "      <td>None</td>\n",
       "      <td>Wildfire</td>\n",
       "      <td>685.585022</td>\n",
       "      <td>None</td>\n",
       "      <td>CalFire FRAP</td>\n",
       "      <td>CDF</td>\n",
       "      <td>2020</td>\n",
       "      <td>0.101178</td>\n",
       "      <td>0.000288</td>\n",
       "      <td>POLYGON ((-121.35275 38.82038, -121.35267 38.8...</td>\n",
       "    </tr>\n",
       "    <tr>\n",
       "      <th>2</th>\n",
       "      <td>3</td>\n",
       "      <td>3</td>\n",
       "      <td>GPS Ground</td>\n",
       "      <td>20200301</td>\n",
       "      <td>None</td>\n",
       "      <td>3</td>\n",
       "      <td>None</td>\n",
       "      <td>None</td>\n",
       "      <td>2020</td>\n",
       "      <td>00018493</td>\n",
       "      <td>...</td>\n",
       "      <td>None</td>\n",
       "      <td>Wildfire</td>\n",
       "      <td>27.300480</td>\n",
       "      <td>None</td>\n",
       "      <td>CalFire FRAP</td>\n",
       "      <td>CDF</td>\n",
       "      <td>2020</td>\n",
       "      <td>0.017450</td>\n",
       "      <td>0.000011</td>\n",
       "      <td>POLYGON ((-121.33333 38.84558, -121.33311 38.8...</td>\n",
       "    </tr>\n",
       "    <tr>\n",
       "      <th>3</th>\n",
       "      <td>4</td>\n",
       "      <td>4</td>\n",
       "      <td>GPS Ground</td>\n",
       "      <td>20200401</td>\n",
       "      <td>None</td>\n",
       "      <td>4</td>\n",
       "      <td>None</td>\n",
       "      <td>None</td>\n",
       "      <td>2020</td>\n",
       "      <td>00007619</td>\n",
       "      <td>...</td>\n",
       "      <td>None</td>\n",
       "      <td>Wildfire</td>\n",
       "      <td>12.931550</td>\n",
       "      <td>None</td>\n",
       "      <td>CalFire FRAP</td>\n",
       "      <td>CDF</td>\n",
       "      <td>2020</td>\n",
       "      <td>0.016557</td>\n",
       "      <td>0.000005</td>\n",
       "      <td>POLYGON ((-121.27317 38.96308, -121.27304 38.9...</td>\n",
       "    </tr>\n",
       "    <tr>\n",
       "      <th>4</th>\n",
       "      <td>5</td>\n",
       "      <td>5</td>\n",
       "      <td>GPS Ground</td>\n",
       "      <td>20200419</td>\n",
       "      <td>None</td>\n",
       "      <td>5</td>\n",
       "      <td>None</td>\n",
       "      <td>None</td>\n",
       "      <td>2020</td>\n",
       "      <td>00008471</td>\n",
       "      <td>...</td>\n",
       "      <td>None</td>\n",
       "      <td>Wildfire</td>\n",
       "      <td>10.315960</td>\n",
       "      <td>None</td>\n",
       "      <td>CalFire FRAP</td>\n",
       "      <td>CDF</td>\n",
       "      <td>2020</td>\n",
       "      <td>0.010920</td>\n",
       "      <td>0.000004</td>\n",
       "      <td>POLYGON ((-121.30065 39.48714, -121.30041 39.4...</td>\n",
       "    </tr>\n",
       "    <tr>\n",
       "      <th>5</th>\n",
       "      <td>6</td>\n",
       "      <td>6</td>\n",
       "      <td>GPS Ground</td>\n",
       "      <td>20200705</td>\n",
       "      <td>None</td>\n",
       "      <td>6</td>\n",
       "      <td>None</td>\n",
       "      <td>None</td>\n",
       "      <td>2020</td>\n",
       "      <td>00014858</td>\n",
       "      <td>...</td>\n",
       "      <td>None</td>\n",
       "      <td>Wildfire</td>\n",
       "      <td>36.701931</td>\n",
       "      <td>None</td>\n",
       "      <td>CalFire FRAP</td>\n",
       "      <td>CDF</td>\n",
       "      <td>2020</td>\n",
       "      <td>0.024267</td>\n",
       "      <td>0.000015</td>\n",
       "      <td>POLYGON ((-121.38238 38.72933, -121.38241 38.7...</td>\n",
       "    </tr>\n",
       "    <tr>\n",
       "      <th>6</th>\n",
       "      <td>8</td>\n",
       "      <td>8</td>\n",
       "      <td>GPS Ground</td>\n",
       "      <td>20200712</td>\n",
       "      <td>None</td>\n",
       "      <td>8</td>\n",
       "      <td>None</td>\n",
       "      <td>None</td>\n",
       "      <td>2020</td>\n",
       "      <td>00015275</td>\n",
       "      <td>...</td>\n",
       "      <td>None</td>\n",
       "      <td>Wildfire</td>\n",
       "      <td>10.102210</td>\n",
       "      <td>None</td>\n",
       "      <td>CalFire FRAP</td>\n",
       "      <td>CDF</td>\n",
       "      <td>2020</td>\n",
       "      <td>0.010780</td>\n",
       "      <td>0.000004</td>\n",
       "      <td>POLYGON ((-121.30435 39.13366, -121.30435 39.1...</td>\n",
       "    </tr>\n",
       "    <tr>\n",
       "      <th>7</th>\n",
       "      <td>9</td>\n",
       "      <td>9</td>\n",
       "      <td>GPS Ground</td>\n",
       "      <td>20200311</td>\n",
       "      <td>None</td>\n",
       "      <td>9</td>\n",
       "      <td>None</td>\n",
       "      <td>None</td>\n",
       "      <td>2020</td>\n",
       "      <td>00006064</td>\n",
       "      <td>...</td>\n",
       "      <td>None</td>\n",
       "      <td>Wildfire</td>\n",
       "      <td>33.973888</td>\n",
       "      <td>None</td>\n",
       "      <td>CalFire FRAP</td>\n",
       "      <td>CDF</td>\n",
       "      <td>2020</td>\n",
       "      <td>0.019102</td>\n",
       "      <td>0.000014</td>\n",
       "      <td>POLYGON ((-121.31667 39.40193, -121.31655 39.4...</td>\n",
       "    </tr>\n",
       "    <tr>\n",
       "      <th>8</th>\n",
       "      <td>10</td>\n",
       "      <td>10</td>\n",
       "      <td>Infrared</td>\n",
       "      <td>20201013</td>\n",
       "      <td>None</td>\n",
       "      <td>10</td>\n",
       "      <td>None</td>\n",
       "      <td>None</td>\n",
       "      <td>2020</td>\n",
       "      <td>00021423</td>\n",
       "      <td>...</td>\n",
       "      <td>None</td>\n",
       "      <td>Wildfire</td>\n",
       "      <td>1309.089966</td>\n",
       "      <td>None</td>\n",
       "      <td>CalFire FRAP</td>\n",
       "      <td>CDF</td>\n",
       "      <td>2020</td>\n",
       "      <td>0.121501</td>\n",
       "      <td>0.000554</td>\n",
       "      <td>POLYGON ((-121.33878 39.38178, -121.33875 39.3...</td>\n",
       "    </tr>\n",
       "    <tr>\n",
       "      <th>9</th>\n",
       "      <td>11</td>\n",
       "      <td>11</td>\n",
       "      <td>GPS Ground</td>\n",
       "      <td>20200706</td>\n",
       "      <td>None</td>\n",
       "      <td>11</td>\n",
       "      <td>None</td>\n",
       "      <td>None</td>\n",
       "      <td>2020</td>\n",
       "      <td>00015012</td>\n",
       "      <td>...</td>\n",
       "      <td>None</td>\n",
       "      <td>Wildfire</td>\n",
       "      <td>194.660294</td>\n",
       "      <td>None</td>\n",
       "      <td>CalFire FRAP</td>\n",
       "      <td>CDF</td>\n",
       "      <td>2020</td>\n",
       "      <td>0.058534</td>\n",
       "      <td>0.000082</td>\n",
       "      <td>POLYGON ((-121.41211 38.73371, -121.41211 38.7...</td>\n",
       "    </tr>\n",
       "  </tbody>\n",
       "</table>\n",
       "<p>10 rows × 22 columns</p>\n",
       "</div>"
      ],
      "text/plain": [
       "   FID  OBJECTID  MAP_METHOD  DATE_CUR COMMENTS GEO_ID IRWINID UNQE_FIRE_  \\\n",
       "0    1         1  GPS Ground  20200623     None      1    None       None   \n",
       "1    2         2  GPS Ground  20200604     None      2    None       None   \n",
       "2    3         3  GPS Ground  20200301     None      3    None       None   \n",
       "3    4         4  GPS Ground  20200401     None      4    None       None   \n",
       "4    5         5  GPS Ground  20200419     None      5    None       None   \n",
       "5    6         6  GPS Ground  20200705     None      6    None       None   \n",
       "6    8         8  GPS Ground  20200712     None      8    None       None   \n",
       "7    9         9  GPS Ground  20200311     None      9    None       None   \n",
       "8   10        10    Infrared  20201013     None     10    None       None   \n",
       "9   11        11  GPS Ground  20200706     None     11    None       None   \n",
       "\n",
       "  FIRE_YEAR LOCAL_NUM  ... POO_RESP_I FEATURE_CA    GIS_ACRES USER_NAME  \\\n",
       "0      2020  00013212  ...       None   Wildfire   109.602501      None   \n",
       "1      2020  00011799  ...       None   Wildfire   685.585022      None   \n",
       "2      2020  00018493  ...       None   Wildfire    27.300480      None   \n",
       "3      2020  00007619  ...       None   Wildfire    12.931550      None   \n",
       "4      2020  00008471  ...       None   Wildfire    10.315960      None   \n",
       "5      2020  00014858  ...       None   Wildfire    36.701931      None   \n",
       "6      2020  00015275  ...       None   Wildfire    10.102210      None   \n",
       "7      2020  00006064  ...       None   Wildfire    33.973888      None   \n",
       "8      2020  00021423  ...       None   Wildfire  1309.089966      None   \n",
       "9      2020  00015012  ...       None   Wildfire   194.660294      None   \n",
       "\n",
       "         SOURCE AGENCY FIRE_YEAR_ SHAPE_Leng  SHAPE_Area  \\\n",
       "0  CalFire FRAP    CDF       2020   0.035733    0.000046   \n",
       "1  CalFire FRAP    CDF       2020   0.101178    0.000288   \n",
       "2  CalFire FRAP    CDF       2020   0.017450    0.000011   \n",
       "3  CalFire FRAP    CDF       2020   0.016557    0.000005   \n",
       "4  CalFire FRAP    CDF       2020   0.010920    0.000004   \n",
       "5  CalFire FRAP    CDF       2020   0.024267    0.000015   \n",
       "6  CalFire FRAP    CDF       2020   0.010780    0.000004   \n",
       "7  CalFire FRAP    CDF       2020   0.019102    0.000014   \n",
       "8  CalFire FRAP    CDF       2020   0.121501    0.000554   \n",
       "9  CalFire FRAP    CDF       2020   0.058534    0.000082   \n",
       "\n",
       "                                            geometry  \n",
       "0  POLYGON ((-121.34840 38.88999, -121.34835 38.8...  \n",
       "1  POLYGON ((-121.35275 38.82038, -121.35267 38.8...  \n",
       "2  POLYGON ((-121.33333 38.84558, -121.33311 38.8...  \n",
       "3  POLYGON ((-121.27317 38.96308, -121.27304 38.9...  \n",
       "4  POLYGON ((-121.30065 39.48714, -121.30041 39.4...  \n",
       "5  POLYGON ((-121.38238 38.72933, -121.38241 38.7...  \n",
       "6  POLYGON ((-121.30435 39.13366, -121.30435 39.1...  \n",
       "7  POLYGON ((-121.31667 39.40193, -121.31655 39.4...  \n",
       "8  POLYGON ((-121.33878 39.38178, -121.33875 39.3...  \n",
       "9  POLYGON ((-121.41211 38.73371, -121.41211 38.7...  \n",
       "\n",
       "[10 rows x 22 columns]"
      ]
     },
     "execution_count": 1,
     "metadata": {},
     "output_type": "execute_result"
    }
   ],
   "source": [
    "\n",
    "import geopandas\n",
    "from geopandas import GeoDataFrame, GeoSeries\n",
    "import matplotlib.pyplot as plt\n",
    "from matplotlib.colors import Normalize\n",
    "import matplotlib.cm as cm\n",
    "%matplotlib inline\n",
    "import seaborn as sns\n",
    "from shapely.geometry import Point, Polygon\n",
    "import numpy as np\n",
    "import googlemaps\n",
    "from datetime import datetime\n",
    "plt.rcParams[\"figure.figsize\"] = [8,6]\n",
    "\n",
    "\n",
    "# The file here looks at all California Dept of Fires (CDF) data from 2020 onwards. Polygons are thus mostly limited to California.\n",
    "fires = GeoDataFrame.from_file('./Interagency_Fire_Perimeter_History_-_All_Years (2)/InteragencyFirePerimeterHistory.shp')\n",
    "\n",
    "# Here's how the data is looking like, for reference.\n",
    "fires.head(10)"
   ]
  },
  {
   "cell_type": "code",
   "execution_count": 2,
   "metadata": {
    "scrolled": true
   },
   "outputs": [
    {
     "data": {
      "text/plain": [
       "<AxesSubplot:>"
      ]
     },
     "execution_count": 2,
     "metadata": {},
     "output_type": "execute_result"
    },
    {
     "data": {
      "image/png": "[encoded data removed]",
      "text/plain": [
       "<Figure size 576x432 with 1 Axes>"
      ]
     },
     "metadata": {
      "needs_background": "light"
     },
     "output_type": "display_data"
    }
   ],
   "source": [
    "# FID looks like just the row numbers given after the filtering done on the dept end - nothing useful \n",
    "# Object ID may take into account the fact that we have filtered the data (some get skipped here and there).\n",
    "fires = fires.set_index('FID')\n",
    "fires = fires.sort_index()\n",
    "\n",
    "# Plot and color by map_method. In other words, provide different colors for different classifications (e.g. blue for GPS Ground, red for Infrared)\n",
    "# Not really needed, but interesting to see, and we can use this later in our analysis if needed.\n",
    "fires.plot(column = 'MAP_METHOD')\n"
   ]
  },
  {
   "cell_type": "code",
   "execution_count": 3,
   "metadata": {},
   "outputs": [
    {
     "data": {
      "image/png": "[encoded data removed]",
      "text/plain": [
       "<Figure size 576x432 with 1 Axes>"
      ]
     },
     "metadata": {
      "needs_background": "light"
     },
     "output_type": "display_data"
    }
   ],
   "source": [
    "\n",
    "# Just some example bounds, can modify later\n",
    "boundy1, boundx1 = 37.008438, -122.543177\n",
    "boundy2, boundx2 = 37.629911, -121.124852\n",
    "\n",
    "\n",
    "plt.gca().set_xlim([boundx1, boundx2])\n",
    "plt.gca().set_ylim([boundy1, boundy2])\n",
    "\n",
    "# make a grid of latitude-longitude values\n",
    "xmin, xmax, ymin, ymax = boundx1, boundx2, boundy1, boundy2\n",
    "xx, yy = np.meshgrid(np.linspace(xmin,xmax,50), np.linspace(ymin,ymax,50))\n",
    "xc = xx.flatten()\n",
    "yc = yy.flatten()\n",
    "\n",
    "# This is setting up our zoomed in version of the map we are interested in.\n",
    "# In this case, the coordinates provided in the long and lat limits (xlim, ylim)"
   ]
  },
  {
   "cell_type": "code",
   "execution_count": 4,
   "metadata": {},
   "outputs": [
    {
     "data": {
      "text/plain": [
       "<AxesSubplot:>"
      ]
     },
     "execution_count": 4,
     "metadata": {},
     "output_type": "execute_result"
    },
    {
     "data": {
      "image/png": "[encoded data removed]",
      "text/plain": [
       "<Figure size 576x432 with 1 Axes>"
      ]
     },
     "metadata": {
      "needs_background": "light"
     },
     "output_type": "display_data"
    }
   ],
   "source": [
    "# Now convert these points to geo-data - may take a few minutes to do at most.\n",
    "pts = GeoSeries([Point(x, y) for x, y in zip(xc, yc)])\n",
    "in_map =  np.array([pts.within(geom) for geom in fires.geometry]).sum(axis=0)\n",
    "pts = GeoSeries([val for pos,val in enumerate(pts) if in_map[pos]])\n",
    "\n",
    "pts.plot(markersize=1)\n",
    "\n",
    "# We now have the points."
   ]
  },
  {
   "cell_type": "code",
   "execution_count": 5,
   "metadata": {},
   "outputs": [],
   "source": [
    "# (Reformat strings if needed to another type than the one given below - format rn is \"Lat,Long\")\n",
    "coords = []\n",
    "for n, point in enumerate(pts):\n",
    "    coords += [','.join(__ for __ in _.strip().split(' ')[::-1]) for _ in str(point).split('(')[1].split(')')[0].split(',')]\n",
    "\n",
    "# coords has the final answers we are looking for."
   ]
  },
  {
   "cell_type": "code",
   "execution_count": 6,
   "metadata": {},
   "outputs": [
    {
     "name": "stdout",
     "output_type": "stream",
     "text": [
      "['37.008438,-121.4721968979592', '37.008438,-121.4432514897959', '37.02112112244897,-122.108995877551', '37.02112112244897,-121.4721968979592', '37.02112112244897,-121.4432514897959', '37.02112112244897,-121.4143060816327', '37.03380424489796,-122.1958321020408', '37.03380424489796,-122.108995877551', '37.03380424489796,-121.1537974081633', '37.04648736734693,-122.1958321020408', '37.04648736734693,-122.1668866938776', '37.04648736734693,-122.108995877551', '37.04648736734693,-121.1827428163265', '37.04648736734693,-121.1537974081633']\n"
     ]
    }
   ],
   "source": [
    "# Just to show that coords has only the filtered coordinates.\n",
    "print(coords[:14])"
   ]
  },
  {
   "cell_type": "code",
   "execution_count": 7,
   "metadata": {},
   "outputs": [
    {
     "name": "stdout",
     "output_type": "stream",
     "text": [
      "541\n"
     ]
    }
   ],
   "source": [
    "print(len(coords))"
   ]
  },
  {
   "cell_type": "code",
   "execution_count": 8,
   "metadata": {},
   "outputs": [
    {
     "name": "stdout",
     "output_type": "stream",
     "text": [
      "['37.008438,-121.4721968979592', '37.008438,-121.4432514897959', '37.02112112244897,-122.108995877551', '37.02112112244897,-121.4721968979592', '37.02112112244897,-121.4432514897959', '37.02112112244897,-121.4143060816327', '37.03380424489796,-122.1958321020408', '37.03380424489796,-122.108995877551', '37.03380424489796,-121.1537974081633', '37.04648736734693,-122.1958321020408', '37.04648736734693,-122.1668866938776', '37.04648736734693,-122.108995877551', '37.04648736734693,-121.1827428163265', '37.04648736734693,-121.1537974081633', '37.05917048979592,-122.2247775102041', '37.05917048979592,-122.1958321020408', '37.05917048979592,-122.1668866938776', '37.05917048979592,-122.1379412857143', '37.05917048979592,-122.108995877551', '37.05917048979592,-121.1537974081633', '37.07185361224489,-122.2537229183673', '37.07185361224489,-122.2247775102041', '37.07185361224489,-122.1958321020408', '37.07185361224489,-122.1668866938776', '37.07185361224489,-122.108995877551', '37.08453673469388,-122.2537229183673', '37.08453673469388,-122.2247775102041', '37.08453673469388,-122.1958321020408', '37.08453673469388,-122.1668866938776', '37.08453673469388,-122.1379412857143', '37.09721985714285,-122.2537229183673', '37.09721985714285,-122.2247775102041', '37.09721985714285,-122.1958321020408', '37.09721985714285,-122.1668866938776', '37.09721985714285,-122.1379412857143', '37.10990297959184,-122.2826683265306', '37.10990297959184,-122.2537229183673', '37.10990297959184,-122.2247775102041', '37.10990297959184,-122.1958321020408', '37.10990297959184,-122.1668866938776', '37.10990297959184,-122.1379412857143', '37.10990297959184,-121.3274698571429', '37.12258610204081,-122.2826683265306', '37.12258610204081,-122.2537229183673', '37.12258610204081,-122.2247775102041', '37.12258610204081,-122.1958321020408', '37.12258610204081,-122.1668866938776', '37.12258610204081,-122.1379412857143', '37.12258610204081,-121.4432514897959', '37.12258610204081,-121.4143060816327', '37.12258610204081,-121.3853606734694', '37.12258610204081,-121.3564152653061', '37.12258610204081,-121.3274698571429', '37.1352692244898,-122.3116137346939', '37.1352692244898,-122.2826683265306', '37.1352692244898,-122.2537229183673', '37.1352692244898,-122.2247775102041', '37.1352692244898,-122.1958321020408', '37.1352692244898,-122.1668866938776', '37.1352692244898,-121.4432514897959', '37.1352692244898,-121.4143060816327', '37.1352692244898,-121.3853606734694', '37.1352692244898,-121.3564152653061', '37.1352692244898,-121.3274698571429', '37.14795234693877,-122.3405591428571', '37.14795234693877,-122.3116137346939', '37.14795234693877,-122.2826683265306', '37.14795234693877,-122.2537229183673', '37.14795234693877,-122.2247775102041', '37.14795234693877,-122.1958321020408', '37.14795234693877,-122.1668866938776', '37.14795234693877,-121.4721968979592', '37.14795234693877,-121.4432514897959', '37.14795234693877,-121.4143060816327', '37.14795234693877,-121.3853606734694', '37.14795234693877,-121.3564152653061', '37.14795234693877,-121.3274698571429', '37.14795234693877,-121.2985244489796', '37.14795234693877,-121.2406336326531', '37.14795234693877,-121.2116882244898', '37.14795234693877,-121.1537974081633', '37.16063546938776,-122.3116137346939', '37.16063546938776,-122.2826683265306', '37.16063546938776,-122.2537229183673', '37.16063546938776,-122.2247775102041', '37.16063546938776,-122.1958321020408', '37.16063546938776,-122.1668866938776', '37.16063546938776,-121.4721968979592', '37.16063546938776,-121.4432514897959', '37.16063546938776,-121.4143060816327', '37.16063546938776,-121.3853606734694', '37.16063546938776,-121.3564152653061', '37.16063546938776,-121.3274698571429', '37.16063546938776,-121.2985244489796', '37.16063546938776,-121.2695790408163', '37.16063546938776,-121.2406336326531', '37.16063546938776,-121.2116882244898', '37.16063546938776,-121.1827428163265', '37.16063546938776,-121.1537974081633', '37.17331859183673,-122.3116137346939', '37.17331859183673,-122.2826683265306', '37.17331859183673,-122.2537229183673', '37.17331859183673,-122.2247775102041', '37.17331859183673,-122.1958321020408', '37.17331859183673,-122.1668866938776', '37.17331859183673,-121.4721968979592', '37.17331859183673,-121.4432514897959', '37.17331859183673,-121.4143060816327', '37.17331859183673,-121.3853606734694', '37.17331859183673,-121.3564152653061', '37.17331859183673,-121.3274698571429', '37.17331859183673,-121.2985244489796', '37.17331859183673,-121.2695790408163', '37.17331859183673,-121.2406336326531', '37.17331859183673,-121.2116882244898', '37.17331859183673,-121.1827428163265', '37.18600171428572,-122.3116137346939', '37.18600171428572,-122.2826683265306', '37.18600171428572,-122.2537229183673', '37.18600171428572,-122.2247775102041', '37.18600171428572,-122.1958321020408', '37.18600171428572,-122.1668866938776', '37.18600171428572,-121.4721968979592', '37.18600171428572,-121.4432514897959', '37.18600171428572,-121.4143060816327', '37.18600171428572,-121.3853606734694', '37.18600171428572,-121.3564152653061', '37.18600171428572,-121.3274698571429', '37.18600171428572,-121.2985244489796', '37.18600171428572,-121.2695790408163', '37.18600171428572,-121.2406336326531', '37.18600171428572,-121.2116882244898', '37.18600171428572,-121.1827428163265', '37.19868483673469,-122.3116137346939', '37.19868483673469,-122.2826683265306', '37.19868483673469,-122.2537229183673', '37.19868483673469,-122.2247775102041', '37.19868483673469,-122.1958321020408', '37.19868483673469,-122.1668866938776', '37.19868483673469,-121.4721968979592', '37.19868483673469,-121.4432514897959', '37.19868483673469,-121.4143060816327', '37.19868483673469,-121.3853606734694', '37.19868483673469,-121.3564152653061', '37.19868483673469,-121.3274698571429', '37.19868483673469,-121.2985244489796', '37.19868483673469,-121.2695790408163', '37.19868483673469,-121.2406336326531', '37.19868483673469,-121.2116882244898', '37.21136795918368,-122.3116137346939', '37.21136795918368,-122.2826683265306', '37.21136795918368,-122.2537229183673', '37.21136795918368,-122.2247775102041', '37.21136795918368,-122.1958321020408', '37.21136795918368,-121.5011423061224', '37.21136795918368,-121.4721968979592', '37.21136795918368,-121.4432514897959', '37.21136795918368,-121.4143060816327', '37.21136795918368,-121.3853606734694', '37.21136795918368,-121.3564152653061', '37.21136795918368,-121.3274698571429', '37.21136795918368,-121.2985244489796', '37.21136795918368,-121.2695790408163', '37.21136795918368,-121.2406336326531', '37.22405108163265,-122.3116137346939', '37.22405108163265,-122.2826683265306', '37.22405108163265,-122.2537229183673', '37.22405108163265,-122.2247775102041', '37.22405108163265,-122.1958321020408', '37.22405108163265,-121.5011423061224', '37.22405108163265,-121.4721968979592', '37.22405108163265,-121.4432514897959', '37.22405108163265,-121.4143060816327', '37.22405108163265,-121.3853606734694', '37.22405108163265,-121.3564152653061', '37.22405108163265,-121.3274698571429', '37.22405108163265,-121.2985244489796', '37.22405108163265,-121.2695790408163', '37.22405108163265,-121.2406336326531', '37.22405108163265,-121.2116882244898', '37.22405108163265,-121.1827428163265', '37.23673420408163,-122.3116137346939', '37.23673420408163,-122.2826683265306', '37.23673420408163,-122.2537229183673', '37.23673420408163,-122.2247775102041', '37.23673420408163,-121.5011423061224', '37.23673420408163,-121.4721968979592', '37.23673420408163,-121.4432514897959', '37.23673420408163,-121.4143060816327', '37.23673420408163,-121.3853606734694', '37.23673420408163,-121.3564152653061', '37.23673420408163,-121.3274698571429', '37.23673420408163,-121.2985244489796', '37.23673420408163,-121.2695790408163', '37.23673420408163,-121.2406336326531', '37.23673420408163,-121.2116882244898', '37.23673420408163,-121.1827428163265', '37.23673420408163,-121.1537974081633', '37.24941732653061,-122.2826683265306', '37.24941732653061,-122.2537229183673', '37.24941732653061,-122.2247775102041', '37.24941732653061,-121.5011423061224', '37.24941732653061,-121.4721968979592', '37.24941732653061,-121.4432514897959', '37.24941732653061,-121.4143060816327', '37.24941732653061,-121.3853606734694', '37.24941732653061,-121.3564152653061', '37.24941732653061,-121.3274698571429', '37.24941732653061,-121.2985244489796', '37.24941732653061,-121.2695790408163', '37.24941732653061,-121.2406336326531', '37.24941732653061,-121.2116882244898', '37.24941732653061,-121.1827428163265', '37.26210044897959,-122.3116137346939', '37.26210044897959,-122.2826683265306', '37.26210044897959,-122.2537229183673', '37.26210044897959,-121.5300877142857', '37.26210044897959,-121.5011423061224', '37.26210044897959,-121.4721968979592', '37.26210044897959,-121.4432514897959', '37.26210044897959,-121.4143060816327', '37.26210044897959,-121.3853606734694', '37.26210044897959,-121.3564152653061', '37.26210044897959,-121.3274698571429', '37.26210044897959,-121.2985244489796', '37.26210044897959,-121.2695790408163', '37.26210044897959,-121.2406336326531', '37.26210044897959,-121.2116882244898', '37.26210044897959,-121.1827428163265', '37.27478357142857,-121.5300877142857', '37.27478357142857,-121.5011423061224', '37.27478357142857,-121.4721968979592', '37.27478357142857,-121.4432514897959', '37.27478357142857,-121.4143060816327', '37.27478357142857,-121.3853606734694', '37.27478357142857,-121.3564152653061', '37.27478357142857,-121.3274698571429', '37.27478357142857,-121.2985244489796', '37.27478357142857,-121.2695790408163', '37.27478357142857,-121.2406336326531', '37.27478357142857,-121.2116882244898', '37.28746669387755,-121.559033122449', '37.28746669387755,-121.5300877142857', '37.28746669387755,-121.5011423061224', '37.28746669387755,-121.4721968979592', '37.28746669387755,-121.4432514897959', '37.28746669387755,-121.4143060816327', '37.28746669387755,-121.3853606734694', '37.28746669387755,-121.3564152653061', '37.28746669387755,-121.3274698571429', '37.28746669387755,-121.2985244489796', '37.28746669387755,-121.2695790408163', '37.28746669387755,-121.2406336326531', '37.28746669387755,-121.2116882244898', '37.30014981632653,-121.5879785306122', '37.30014981632653,-121.559033122449', '37.30014981632653,-121.5300877142857', '37.30014981632653,-121.5011423061224', '37.30014981632653,-121.4721968979592', '37.30014981632653,-121.4432514897959', '37.30014981632653,-121.4143060816327', '37.30014981632653,-121.3853606734694', '37.30014981632653,-121.3564152653061', '37.30014981632653,-121.3274698571429', '37.30014981632653,-121.2985244489796', '37.30014981632653,-121.2695790408163', '37.30014981632653,-121.2406336326531', '37.30014981632653,-121.2116882244898', '37.31283293877551,-121.5879785306122', '37.31283293877551,-121.559033122449', '37.31283293877551,-121.5300877142857', '37.31283293877551,-121.5011423061224', '37.31283293877551,-121.4721968979592', '37.31283293877551,-121.4432514897959', '37.31283293877551,-121.4143060816327', '37.31283293877551,-121.3853606734694', '37.31283293877551,-121.3564152653061', '37.31283293877551,-121.3274698571429', '37.31283293877551,-121.2985244489796', '37.31283293877551,-121.2695790408163', '37.31283293877551,-121.2406336326531', '37.31283293877551,-121.2116882244898', '37.32551606122449,-121.6458693469388', '37.32551606122449,-121.6169239387755', '37.32551606122449,-121.5879785306122', '37.32551606122449,-121.559033122449', '37.32551606122449,-121.5300877142857', '37.32551606122449,-121.5011423061224', '37.32551606122449,-121.4432514897959', '37.32551606122449,-121.4143060816327', '37.32551606122449,-121.3853606734694', '37.32551606122449,-121.3564152653061', '37.32551606122449,-121.3274698571429', '37.32551606122449,-121.2985244489796', '37.32551606122449,-121.2695790408163', '37.32551606122449,-121.2406336326531', '37.32551606122449,-121.2116882244898', '37.33819918367347,-121.674814755102', '37.33819918367347,-121.6458693469388', '37.33819918367347,-121.6169239387755', '37.33819918367347,-121.5879785306122', '37.33819918367347,-121.559033122449', '37.33819918367347,-121.5300877142857', '37.33819918367347,-121.5011423061224', '37.33819918367347,-121.4432514897959', '37.33819918367347,-121.4143060816327', '37.33819918367347,-121.3853606734694', '37.33819918367347,-121.3564152653061', '37.33819918367347,-121.3274698571429', '37.33819918367347,-121.2985244489796', '37.33819918367347,-121.2695790408163', '37.33819918367347,-121.2406336326531', '37.33819918367347,-121.2116882244898', '37.35088230612245,-121.7037601632653', '37.35088230612245,-121.674814755102', '37.35088230612245,-121.6458693469388', '37.35088230612245,-121.6169239387755', '37.35088230612245,-121.5879785306122', '37.35088230612245,-121.559033122449', '37.35088230612245,-121.5300877142857', '37.35088230612245,-121.5011423061224', '37.35088230612245,-121.4432514897959', '37.35088230612245,-121.4143060816327', '37.35088230612245,-121.3853606734694', '37.35088230612245,-121.3564152653061', '37.35088230612245,-121.3274698571429', '37.35088230612245,-121.2985244489796', '37.35088230612245,-121.2116882244898', '37.36356542857143,-121.7037601632653', '37.36356542857143,-121.674814755102', '37.36356542857143,-121.6458693469388', '37.36356542857143,-121.6169239387755', '37.36356542857143,-121.5879785306122', '37.36356542857143,-121.559033122449', '37.36356542857143,-121.5300877142857', '37.36356542857143,-121.4721968979592', '37.36356542857143,-121.4432514897959', '37.36356542857143,-121.4143060816327', '37.36356542857143,-121.3853606734694', '37.36356542857143,-121.3564152653061', '37.36356542857143,-121.3274698571429', '37.36356542857143,-121.2985244489796', '37.37624855102041,-121.7037601632653', '37.37624855102041,-121.674814755102', '37.37624855102041,-121.6458693469388', '37.37624855102041,-121.6169239387755', '37.37624855102041,-121.5879785306122', '37.37624855102041,-121.559033122449', '37.37624855102041,-121.4432514897959', '37.37624855102041,-121.4143060816327', '37.37624855102041,-121.3853606734694', '37.37624855102041,-121.3564152653061', '37.37624855102041,-121.3274698571429', '37.37624855102041,-121.2985244489796', '37.38893167346939,-121.7327055714286', '37.38893167346939,-121.7037601632653', '37.38893167346939,-121.674814755102', '37.38893167346939,-121.6458693469388', '37.38893167346939,-121.6169239387755', '37.38893167346939,-121.5879785306122', '37.38893167346939,-121.559033122449', '37.38893167346939,-121.5011423061224', '37.38893167346939,-121.4721968979592', '37.38893167346939,-121.4432514897959', '37.38893167346939,-121.4143060816327', '37.38893167346939,-121.3853606734694', '37.38893167346939,-121.3564152653061', '37.38893167346939,-121.3274698571429', '37.38893167346939,-121.2985244489796', '37.40161479591837,-121.7327055714286', '37.40161479591837,-121.7037601632653', '37.40161479591837,-121.674814755102', '37.40161479591837,-121.6458693469388', '37.40161479591837,-121.6169239387755', '37.40161479591837,-121.5879785306122', '37.40161479591837,-121.559033122449', '37.40161479591837,-121.5011423061224', '37.40161479591837,-121.4721968979592', '37.40161479591837,-121.4432514897959', '37.40161479591837,-121.4143060816327', '37.40161479591837,-121.3853606734694', '37.40161479591837,-121.3564152653061', '37.40161479591837,-121.3274698571429', '37.40161479591837,-121.2985244489796', '37.41429791836735,-121.7037601632653', '37.41429791836735,-121.674814755102', '37.41429791836735,-121.6458693469388', '37.41429791836735,-121.6169239387755', '37.41429791836735,-121.5879785306122', '37.41429791836735,-121.559033122449', '37.41429791836735,-121.5011423061224', '37.41429791836735,-121.4721968979592', '37.41429791836735,-121.4432514897959', '37.41429791836735,-121.4143060816327', '37.41429791836735,-121.3853606734694', '37.41429791836735,-121.3564152653061', '37.41429791836735,-121.3274698571429', '37.41429791836735,-121.2985244489796', '37.42698104081632,-121.7327055714286', '37.42698104081632,-121.7037601632653', '37.42698104081632,-121.674814755102', '37.42698104081632,-121.6458693469388', '37.42698104081632,-121.6169239387755', '37.42698104081632,-121.5879785306122', '37.42698104081632,-121.559033122449', '37.42698104081632,-121.5300877142857', '37.42698104081632,-121.5011423061224', '37.42698104081632,-121.4721968979592', '37.42698104081632,-121.4432514897959', '37.42698104081632,-121.4143060816327', '37.42698104081632,-121.3853606734694', '37.42698104081632,-121.3564152653061', '37.42698104081632,-121.3274698571429', '37.42698104081632,-121.2985244489796', '37.42698104081632,-121.2406336326531', '37.42698104081632,-121.2116882244898', '37.43966416326531,-121.7616509795918', '37.43966416326531,-121.7327055714286', '37.43966416326531,-121.7037601632653', '37.43966416326531,-121.674814755102', '37.43966416326531,-121.6458693469388', '37.43966416326531,-121.6169239387755', '37.43966416326531,-121.5879785306122', '37.43966416326531,-121.559033122449', '37.43966416326531,-121.5011423061224', '37.43966416326531,-121.4721968979592', '37.43966416326531,-121.4432514897959', '37.43966416326531,-121.4143060816327', '37.43966416326531,-121.3853606734694', '37.43966416326531,-121.3564152653061', '37.43966416326531,-121.3274698571429', '37.43966416326531,-121.2985244489796', '37.43966416326531,-121.2695790408163', '37.43966416326531,-121.2406336326531', '37.43966416326531,-121.2116882244898', '37.45234728571428,-121.7616509795918', '37.45234728571428,-121.7327055714286', '37.45234728571428,-121.7037601632653', '37.45234728571428,-121.674814755102', '37.45234728571428,-121.6458693469388', '37.45234728571428,-121.6169239387755', '37.45234728571428,-121.5011423061224', '37.45234728571428,-121.4721968979592', '37.45234728571428,-121.4432514897959', '37.45234728571428,-121.4143060816327', '37.45234728571428,-121.3853606734694', '37.45234728571428,-121.3564152653061', '37.45234728571428,-121.3274698571429', '37.45234728571428,-121.2985244489796', '37.45234728571428,-121.2695790408163', '37.45234728571428,-121.2406336326531', '37.45234728571428,-121.2116882244898', '37.46503040816327,-121.7905963877551', '37.46503040816327,-121.7616509795918', '37.46503040816327,-121.7327055714286', '37.46503040816327,-121.7037601632653', '37.46503040816327,-121.674814755102', '37.46503040816327,-121.6458693469388', '37.46503040816327,-121.6169239387755', '37.46503040816327,-121.5011423061224', '37.46503040816327,-121.4721968979592', '37.46503040816327,-121.4432514897959', '37.46503040816327,-121.4143060816327', '37.46503040816327,-121.3853606734694', '37.46503040816327,-121.3564152653061', '37.46503040816327,-121.3274698571429', '37.46503040816327,-121.2406336326531', '37.46503040816327,-121.2116882244898', '37.47771353061224,-121.7905963877551', '37.47771353061224,-121.7616509795918', '37.47771353061224,-121.7327055714286', '37.47771353061224,-121.7037601632653', '37.47771353061224,-121.674814755102', '37.47771353061224,-121.6458693469388', '37.47771353061224,-121.6169239387755', '37.47771353061224,-121.5011423061224', '37.47771353061224,-121.4721968979592', '37.47771353061224,-121.4432514897959', '37.47771353061224,-121.4143060816327', '37.47771353061224,-121.3853606734694', '37.47771353061224,-121.2116882244898', '37.49039665306123,-121.8484872040816', '37.49039665306123,-121.7327055714286', '37.49039665306123,-121.7037601632653', '37.49039665306123,-121.674814755102', '37.49039665306123,-121.6458693469388', '37.49039665306123,-121.5300877142857', '37.49039665306123,-121.5011423061224', '37.49039665306123,-121.4721968979592', '37.49039665306123,-121.4432514897959', '37.49039665306123,-121.4143060816327', '37.5030797755102,-121.8484872040816', '37.5030797755102,-121.7616509795918', '37.5030797755102,-121.7327055714286', '37.5030797755102,-121.7037601632653', '37.5030797755102,-121.674814755102', '37.5030797755102,-121.6458693469388', '37.5030797755102,-121.5300877142857', '37.5030797755102,-121.5011423061224', '37.5030797755102,-121.4721968979592', '37.5030797755102,-121.4432514897959', '37.5030797755102,-121.4143060816327', '37.51576289795918,-121.7327055714286', '37.51576289795918,-121.7037601632653', '37.51576289795918,-121.674814755102', '37.51576289795918,-121.6458693469388', '37.51576289795918,-121.5300877142857', '37.51576289795918,-121.5011423061224', '37.51576289795918,-121.4721968979592', '37.51576289795918,-121.4432514897959', '37.51576289795918,-121.4143060816327', '37.52844602040816,-121.7327055714286', '37.52844602040816,-121.7037601632653', '37.52844602040816,-121.674814755102', '37.52844602040816,-121.6458693469388', '37.52844602040816,-121.5300877142857', '37.52844602040816,-121.5011423061224', '37.52844602040816,-121.4721968979592', '37.52844602040816,-121.4432514897959', '37.52844602040816,-121.4143060816327', '37.54112914285714,-121.5300877142857', '37.54112914285714,-121.5011423061224', '37.54112914285714,-121.4721968979592', '37.54112914285714,-121.4432514897959', '37.54112914285714,-121.4143060816327', '37.55381226530612,-121.8484872040816', '37.55381226530612,-121.5300877142857', '37.55381226530612,-121.5011423061224', '37.55381226530612,-121.4721968979592', '37.55381226530612,-121.4432514897959', '37.55381226530612,-121.4143060816327', '37.5664953877551,-121.5300877142857', '37.5664953877551,-121.5011423061224', '37.5664953877551,-121.4721968979592', '37.5664953877551,-121.4432514897959', '37.5664953877551,-121.4143060816327', '37.5664953877551,-121.3853606734694', '37.57917851020408,-121.5011423061224', '37.57917851020408,-121.4721968979592', '37.59186163265306,-121.5011423061224', '37.60454475510204,-121.5011423061224']\n"
     ]
    }
   ],
   "source": [
    "print(coords)"
   ]
  },
  {
   "cell_type": "code",
   "execution_count": null,
   "metadata": {},
   "outputs": [],
   "source": []
  }
 ],
 "metadata": {
  "kernelspec": {
   "display_name": "Python [conda env:env_nycgridtest]",
   "language": "python",
   "name": "conda-env-env_nycgridtest-py"
  },
  "language_info": {
   "codemirror_mode": {
    "name": "ipython",
    "version": 3
   },
   "file_extension": ".py",
   "mimetype": "text/x-python",
   "name": "python",
   "nbconvert_exporter": "python",
   "pygments_lexer": "ipython3",
   "version": "3.7.11"
  }
 },
 "nbformat": 4,
 "nbformat_minor": 4
}
